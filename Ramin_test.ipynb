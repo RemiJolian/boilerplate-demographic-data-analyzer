{
 "cells": [
  {
   "cell_type": "code",
   "execution_count": 5,
   "metadata": {},
   "outputs": [],
   "source": [
    "df = pd.read_csv('adult.data.csv')"
   ]
  },
  {
   "cell_type": "code",
   "execution_count": 15,
   "metadata": {},
   "outputs": [
    {
     "data": {
      "text/plain": [
       "'Iran'"
      ]
     },
     "execution_count": 15,
     "metadata": {},
     "output_type": "execute_result"
    }
   ],
   "source": [
    "country_count = df['native-country'].value_counts()\n",
    "country_rich_count = df[df['salary'] == '>50K']['native-country'].value_counts()\n",
    "highest_earning_country = (country_rich_count/country_count * 100).idxmax()\n",
    "\n",
    "\n",
    "#highest_earning_country_percentage = round((country_rich_count/country_count * 100).max(),1)\n",
    "\n",
    "highest_earning_country"
   ]
  },
  {
   "cell_type": "code",
   "execution_count": 18,
   "metadata": {},
   "outputs": [
    {
     "name": "stdout",
     "output_type": "stream",
     "text": [
      "Number of each race:\n",
      " race\n",
      "Amer-Indian-Eskimo      37578487\n",
      "Asian-Pac-Islander     166178293\n",
      "Black                  712313000\n",
      "Other                   53420656\n",
      "White                 5209882956\n",
      "Name: fnlwgt, dtype: int64\n",
      "Average age of men: 39.4\n",
      "Percentage with Bachelors degrees: 16.4%\n",
      "Percentage with higher education that earn >50K: 46.5%\n",
      "Percentage without higher education that earn >50K: 82.6%\n",
      "Min work time: 1 hours/week\n",
      "Percentage of rich among those who work fewest hours: 10.0%\n",
      "Country with highest percentage of rich: Iran\n",
      "Highest percentage of rich people in country: 41.9%\n",
      "Top occupations in India: Prof-specialty\n"
     ]
    },
    {
     "data": {
      "text/plain": [
       "{'race_count': race\n",
       " Amer-Indian-Eskimo      37578487\n",
       " Asian-Pac-Islander     166178293\n",
       " Black                  712313000\n",
       " Other                   53420656\n",
       " White                 5209882956\n",
       " Name: fnlwgt, dtype: int64,\n",
       " 'average_age_men': 39.4,\n",
       " 'percentage_bachelors': 16.4,\n",
       " 'higher_edu_pop': 46.5,\n",
       " 'lower_edu_pop': 82.6,\n",
       " 'min_work_hours': 1,\n",
       " 'rich_percentage': 10.0,\n",
       " 'highest_earning_country': 'Iran',\n",
       " 'highest_earning_country_percentage': 41.9,\n",
       " 'top_IN_occupation': 'Prof-specialty'}"
      ]
     },
     "execution_count": 18,
     "metadata": {},
     "output_type": "execute_result"
    }
   ],
   "source": [
    "import pandas as pd\n",
    "\n",
    "\n",
    "def calculate_demographic_data(print_data=True):\n",
    "    # Read data from file\n",
    "    df = pd.read_csv('adult.data.csv')\n",
    "\n",
    "    # How many of each race are represented in this dataset? This should be a Pandas series with race names as the index labels.\n",
    "    race_count = df.groupby('race')['fnlwgt'].sum()\n",
    "    # or: race_count = df['race'].value_counts()\n",
    "\n",
    "    # What is the average age of men?\n",
    "    average_age_men = df[df['sex']=='Male']['age'].mean().round(1)\n",
    "\n",
    "    # What is the percentage of people who have a Bachelor's degree?\n",
    "    num_bachelors = len(df[df['education'] == 'Bachelors'])\n",
    "    total_num = len(df)\n",
    "    percentage_bachelors = round((num_bachelors / total_num) * 100 , 1)\n",
    "\n",
    "    #or: total_bachelors = df[df['education'] == 'Bachelors']['fnlwgt'].sum()\n",
    "    #total_population = df['fnlwgt'].sum()\n",
    "    #percentage_bachelors = (total_bachelors/total_population) * 100\n",
    "\n",
    "\n",
    "    # What percentage of people with advanced education (`Bachelors`, `Masters`, or `Doctorate`) make more than 50K?\n",
    "    # What percentage of people without advanced education make more than 50K?\n",
    "\n",
    "    # with and without `Bachelors`, `Masters`, or `Doctorate`\n",
    "   \n",
    "    \n",
    "    higher_education = df[df['education'].isin(['Bachelors','Masters', 'Doctorate'])]\n",
    "    lower_education = df[~df['education'].isin(['Bachelors','Masters', 'Doctorate'])]\n",
    "\n",
    "    num_rich_higher_education = len(higher_education[higher_education.salary == \">50K\"])\n",
    "    higher_education_rich = round(num_rich_higher_education/len(higher_education) * 100 ,1)\n",
    "\n",
    "    num_rich_lower_education = len(lower_education[lower_education.salary == \"<=50K\"])\n",
    "    lower_education_rich = round(num_rich_lower_education/len(lower_education) * 100 ,1)\n",
    "\n",
    "    # What is the minimum number of hours a person works per week (hours-per-week feature)?\n",
    "    min_work_hours = df['hours-per-week'].min()\n",
    "\n",
    "    # What percentage of the people who work the minimum number of hours per week have a salary of >50K?\n",
    "    num_min_workers = df[df['hours-per-week'] == min_work_hours]\n",
    "\n",
    "    rich_percentage = round(len(num_min_workers[num_min_workers.salary == '>50K']) /len(num_min_workers) * 100, 1)\n",
    "\n",
    "    # What country has the highest percentage of people that earn >50K?\n",
    "\n",
    "    country_count = df['native-country'].value_counts()\n",
    "    country_rich_count = df[df['salary'] == '>50K']['native-country'].value_counts()\n",
    "    highest_earning_country = (country_rich_count/country_count * 100).idxmax()\n",
    "\n",
    "\n",
    "    highest_earning_country_percentage = round((country_rich_count/country_count * 100).max(),1)\n",
    "\n",
    "\n",
    "    # Identify the most popular occupation for those who earn >50K in India.\n",
    "    rich_people_of_india = df[(df['native-country'] == 'India') & (df['salary'] == '>50K')]\n",
    "    occupation_count = rich_people_of_india['occupation'].value_counts()\n",
    "\n",
    "\n",
    "    top_IN_occupation = occupation_count.idxmax()\n",
    "\n",
    "\n",
    "    # DO NOT MODIFY BELOW THIS LINE\n",
    "\n",
    "    if print_data:\n",
    "        print(\"Number of each race:\\n\", race_count) \n",
    "        print(\"Average age of men:\", average_age_men)\n",
    "        print(f\"Percentage with Bachelors degrees: {percentage_bachelors}%\")\n",
    "        print(f\"Percentage with higher education that earn >50K: {higher_education_rich}%\")\n",
    "        print(f\"Percentage without higher education that earn >50K: {lower_education_rich}%\")\n",
    "        print(f\"Min work time: {min_work_hours} hours/week\")\n",
    "        print(f\"Percentage of rich among those who work fewest hours: {rich_percentage}%\")\n",
    "        print(\"Country with highest percentage of rich:\", highest_earning_country)\n",
    "        print(f\"Highest percentage of rich people in country: {highest_earning_country_percentage}%\")\n",
    "        print(\"Top occupations in India:\", top_IN_occupation)\n",
    "\n",
    "    return {\n",
    "        'race_count': race_count,\n",
    "        'average_age_men': average_age_men,\n",
    "        'percentage_bachelors': percentage_bachelors,\n",
    "        'higher_edu_pop': higher_education_rich,\n",
    "        'lower_edu_pop': lower_education_rich,\n",
    "        'min_work_hours': min_work_hours,\n",
    "        'rich_percentage': rich_percentage,\n",
    "        'highest_earning_country': highest_earning_country,\n",
    "        'highest_earning_country_percentage':\n",
    "        highest_earning_country_percentage,\n",
    "        'top_IN_occupation': top_IN_occupation\n",
    "    }\n",
    "\n",
    "calculate_demographic_data()"
   ]
  }
 ],
 "metadata": {
  "kernelspec": {
   "display_name": "Python 3",
   "language": "python",
   "name": "python3"
  },
  "language_info": {
   "codemirror_mode": {
    "name": "ipython",
    "version": 3
   },
   "file_extension": ".py",
   "mimetype": "text/x-python",
   "name": "python",
   "nbconvert_exporter": "python",
   "pygments_lexer": "ipython3",
   "version": "3.12.0"
  }
 },
 "nbformat": 4,
 "nbformat_minor": 2
}
